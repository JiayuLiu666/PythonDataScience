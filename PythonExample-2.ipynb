{
 "cells": [
  {
   "cell_type": "code",
   "execution_count": 1,
   "metadata": {},
   "outputs": [],
   "source": [
    "import numpy as np\n",
    "import random\n",
    "import time\n",
    "import matplotlib.pyplot as plt\n",
    "import seaborn as sns\n",
    "from matplotlib.pyplot import figure"
   ]
  },
  {
   "cell_type": "code",
   "execution_count": 2,
   "metadata": {},
   "outputs": [],
   "source": [
    "#有四个数字：1、2、3、4，能组成多少个互不相同且无重复数字的三位数？各是多少？\n",
    "integer = np.zeros(5,)\n",
    "a = np.array(range(1,5))\n",
    "b = np.array(range(1,4))\n",
    "c = np.array(range(1,3))"
   ]
  },
  {
   "cell_type": "code",
   "execution_count": 3,
   "metadata": {},
   "outputs": [
    {
     "name": "stdout",
     "output_type": "stream",
     "text": [
      "1 2 1\n",
      "1 3 1\n",
      "1 3 2\n",
      "2 1 2\n",
      "2 3 1\n",
      "2 3 2\n",
      "3 1 2\n",
      "3 2 1\n",
      "4 1 2\n",
      "4 2 1\n",
      "4 3 1\n",
      "4 3 2\n"
     ]
    }
   ],
   "source": [
    "for i in a:\n",
    "    for j in b:\n",
    "        for k in c:\n",
    "            if i != j != k:\n",
    "                print(i,j,k)"
   ]
  },
  {
   "cell_type": "markdown",
   "metadata": {},
   "source": [
    "## 第二题"
   ]
  },
  {
   "cell_type": "markdown",
   "metadata": {},
   "source": [
    "### 企业发放的奖金根据利润提成。利润(I)低于或等于10万元时，奖金可提10%；利润高于10万元，低于20万元时，低于10万元的部分按10%提成，高于10万元的部分，可提成7.5%；20万到40万之间时，高于20万元的部分，可提成5%；40万到60万之间时高于40万元的部分，可提成3%；60万到100万之间时，高于60万元的部分，可提成1.5%，高于100万元时，超过100万元的部分按1%提成，从键盘输入当月利润I，求应发放奖金总数？"
   ]
  },
  {
   "cell_type": "code",
   "execution_count": 4,
   "metadata": {},
   "outputs": [
    {
     "name": "stdout",
     "output_type": "stream",
     "text": [
      "Enter a number: 2\n",
      "0.2\n",
      "0.2\n"
     ]
    }
   ],
   "source": [
    "num = int(input('Enter a number: '))\n",
    "\n",
    "\n",
    "\n",
    "arr = [1000000,600000,400000,200000,100000,0]\n",
    "rat = [0.01,0.015,0.03,0.05,0.075,0.1]\n",
    "r = 0\n",
    "\n",
    "for i in range(0,6):\n",
    "    if num>arr[i]:\n",
    "        r += (num - arr[i])*rat[i]\n",
    "        print ((num-arr[i])*rat[i])\n",
    "        num = arr[i]\n",
    "\n",
    "print(r)\n",
    "\n",
    "        \n",
    "        \n",
    "        \n",
    "\n",
    "\n",
    "        \n",
    "            \n",
    "            \n",
    "            \n",
    "    \n",
    "    \n",
    "    \n",
    "\n"
   ]
  },
  {
   "cell_type": "markdown",
   "metadata": {},
   "source": [
    "## 斐波那契数列"
   ]
  },
  {
   "cell_type": "code",
   "execution_count": 5,
   "metadata": {},
   "outputs": [],
   "source": [
    "number = {}\n",
    "def fibonacci(n):\n",
    "\n",
    "    if n <= 1:\n",
    "        return n\n",
    "    if n in number:\n",
    "        return number[n]\n",
    "        \n",
    "\n",
    "        \n",
    "        \n",
    "    \n",
    "    else:\n",
    "        result = fibonacci(n-1) + fibonacci(n-2)\n",
    "        number[n] = result\n",
    "        return result\n",
    "    \n",
    "\n"
   ]
  },
  {
   "cell_type": "code",
   "execution_count": 6,
   "metadata": {},
   "outputs": [
    {
     "name": "stdout",
     "output_type": "stream",
     "text": [
      "354224848179261915075\n",
      "0.0006279945373535156\n"
     ]
    }
   ],
   "source": [
    "start = time.time()\n",
    "print(fibonacci(100))\n",
    "\n",
    "end = time.time()\n",
    "print(end-start)"
   ]
  },
  {
   "cell_type": "markdown",
   "metadata": {},
   "source": [
    "## 一个整数，它加上100后是一个完全平方数，再加上168又是一个完全平方数，请问该数是多少？"
   ]
  },
  {
   "cell_type": "code",
   "execution_count": 7,
   "metadata": {},
   "outputs": [
    {
     "name": "stdout",
     "output_type": "stream",
     "text": [
      "-99.0\n",
      "21.0\n",
      "261.0\n",
      "1581.0\n",
      "符合条件的整数有： [-99, 21, 261, 1581]\n"
     ]
    }
   ],
   "source": [
    "for i in range(1,85):\n",
    "    if 168 % i == 0:\n",
    "        j = 168/i;\n",
    "        if i > j and (i + j) % 2 == 0 and (i - j) % 2 == 0:\n",
    "            m = (i + j) / 2\n",
    "            n = (i - j) / 2\n",
    "            x = n * n - 100\n",
    "            print(x)\n",
    "t = []\n",
    "for m in range(168):\n",
    "    for n in range(m):\n",
    "        if m**2 - n**2 == 168:\n",
    "            x = n**2 - 100\n",
    "            t.append(x)\n",
    "print('符合条件的整数有：',t )\n",
    "            \n",
    "\n",
    "    "
   ]
  },
  {
   "cell_type": "markdown",
   "metadata": {},
   "source": [
    "### 输入某年某月某日，判断这一天是这一年的第几天？"
   ]
  },
  {
   "cell_type": "code",
   "execution_count": 8,
   "metadata": {},
   "outputs": [
    {
     "name": "stdout",
     "output_type": "stream",
     "text": [
      "year :3\n",
      "month :3\n",
      "day :3\n",
      "62\n"
     ]
    }
   ],
   "source": [
    "year = int(input('year :'))\n",
    "month = int(input('month :'))\n",
    "day = int(input('day :'))\n",
    "\n",
    "mon = [1,2,3,4,5,6,7,8,9,10,11,12]\n",
    "\n",
    "days1 = [31,28,31,30,31,30,31,31,30,31,30,31]\n",
    "days2 = [31,29,31,30,31,30,31,31,30,31,30,31]\n",
    "new_list = []\n",
    "\n",
    "\n",
    "i = 0\n",
    "total_days = 0\n",
    "if year % 4 == 0:\n",
    "\n",
    "    while mon[i] < month:\n",
    "        new_list.append(days2[i])\n",
    "        total_days = sum(new_list) \n",
    "\n",
    "\n",
    "\n",
    "        \n",
    "        i +=1\n",
    "    \n",
    "            \n",
    "else:\n",
    "    while mon[i] < month:\n",
    "        new_list.append(days1[i])\n",
    "\n",
    "        total_days = sum(new_list) \n",
    "\n",
    "        \n",
    "        i +=1\n",
    "\n",
    "total_days += day\n",
    "print(total_days)\n",
    "\n",
    "\n",
    "\n"
   ]
  },
  {
   "cell_type": "markdown",
   "metadata": {},
   "source": [
    "###### Optimization\n",
    "\n",
    "### argmin(f(x) = $\\frac{-log(x)}{1+x}$)"
   ]
  },
  {
   "cell_type": "code",
   "execution_count": 9,
   "metadata": {},
   "outputs": [],
   "source": [
    "import math\n",
    "import matplotlib as plt"
   ]
  },
  {
   "cell_type": "code",
   "execution_count": 10,
   "metadata": {},
   "outputs": [],
   "source": [
    "def argmin(x):\n",
    "    r = -math.log(x)/(1+x)\n",
    "    return r\n",
    "\n",
    "def deriv_x(x):\n",
    "    r1 = (-x + x*math.log(x)-1)/(x*(1+x)**2)\n",
    "    return r1"
   ]
  },
  {
   "cell_type": "code",
   "execution_count": 11,
   "metadata": {},
   "outputs": [],
   "source": [
    "def gradient_decs(n):\n",
    "    alpha = 0.01\n",
    "    x1 = 1\n",
    "    y = argmin(x1)\n",
    "    for i in range(n):\n",
    "        deriv1 = deriv_x(x1)\n",
    "        x1 = x1 - alpha * deriv1\n",
    "        y2 = argmin(x1)\n",
    "        if y - y2 < 1e-6:\n",
    "            return x1, y2\n",
    "        if y2 < y:\n",
    "            y = y2\n",
    "    return x1, y2\n",
    "\n",
    "            \n",
    "    "
   ]
  },
  {
   "cell_type": "code",
   "execution_count": 12,
   "metadata": {},
   "outputs": [
    {
     "data": {
      "text/plain": [
       "(2.31256813933278, -0.25308419943827043)"
      ]
     },
     "execution_count": 12,
     "metadata": {},
     "output_type": "execute_result"
    }
   ],
   "source": [
    "gradient_decs(1000)"
   ]
  },
  {
   "cell_type": "code",
   "execution_count": 13,
   "metadata": {},
   "outputs": [
    {
     "name": "stdout",
     "output_type": "stream",
     "text": [
      "3.591121418204523\n",
      "-0.27846454276107374\n"
     ]
    }
   ],
   "source": [
    "## gradient descent\n",
    "alpha = 0.5\n",
    "x = 2\n",
    "itera = 0\n",
    "epilsion = 1e-9\n",
    "\n",
    "for i in range(10000):\n",
    "    itera +=1\n",
    "    derive = deriv_x(x)\n",
    "    x = x - alpha*derive\n",
    "\n",
    "    if (abs(derive) < epilsion):\n",
    "        break\n",
    "print(x)\n",
    "print(argmin(x))"
   ]
  },
  {
   "cell_type": "markdown",
   "metadata": {},
   "source": [
    "### 输入三个整数x,y,z，请把这三个数由小到大输出。"
   ]
  },
  {
   "cell_type": "code",
   "execution_count": 14,
   "metadata": {},
   "outputs": [
    {
     "name": "stdout",
     "output_type": "stream",
     "text": [
      "enter a number: 3\n",
      "[3]\n",
      "enter a number: 3\n",
      "[3, 3]\n",
      "enter a number: 3\n",
      "[3, 3, 3]\n",
      "[3, 3, 3]\n"
     ]
    }
   ],
   "source": [
    "list_new = []\n",
    "\n",
    "for i in range(3):\n",
    "    x = int(input('enter a number: '))\n",
    "    list_new.append(x)\n",
    "    print(list_new)\n",
    "list_new.sort()\n",
    "\n",
    "print(list_new)\n",
    "\n",
    "    \n",
    "\n",
    "\n",
    "\n"
   ]
  },
  {
   "cell_type": "code",
   "execution_count": 15,
   "metadata": {},
   "outputs": [
    {
     "name": "stdout",
     "output_type": "stream",
     "text": [
      "[1, 2, 3]\n"
     ]
    }
   ],
   "source": [
    "#复制列表\n",
    "a = [1,2,3]\n",
    "b = a.copy()\n",
    "print(b)"
   ]
  },
  {
   "cell_type": "markdown",
   "metadata": {},
   "source": [
    "### 输出 9*9 乘法口诀表。"
   ]
  },
  {
   "cell_type": "code",
   "execution_count": 16,
   "metadata": {},
   "outputs": [
    {
     "name": "stdout",
     "output_type": "stream",
     "text": [
      "\n",
      "1*1=1 \n",
      "2*1=2 2*2=4 \n",
      "3*1=3 3*2=6 3*3=9 \n",
      "4*1=4 4*2=8 4*3=12 4*4=16 \n",
      "5*1=5 5*2=10 5*3=15 5*4=20 5*5=25 \n",
      "6*1=6 6*2=12 6*3=18 6*4=24 6*5=30 6*6=36 \n",
      "7*1=7 7*2=14 7*3=21 7*4=28 7*5=35 7*6=42 7*7=49 \n",
      "8*1=8 8*2=16 8*3=24 8*4=32 8*5=40 8*6=48 8*7=56 8*8=64 \n",
      "9*1=9 9*2=18 9*3=27 9*4=36 9*5=45 9*6=54 9*7=63 9*8=72 9*9=81 "
     ]
    }
   ],
   "source": [
    "\n",
    "for i in range(1,10):\n",
    "    print()\n",
    "    for j in range(1,10):\n",
    "        if j <= i:\n",
    "             print (\"%d*%d=%d\" % (i, j, i*j), end=\" \" )\n",
    "        else:\n",
    "            continue\n",
    " "
   ]
  },
  {
   "cell_type": "markdown",
   "metadata": {},
   "source": [
    "### 判断101-200之间有多少个素数，并输出所有素数。"
   ]
  },
  {
   "cell_type": "code",
   "execution_count": 17,
   "metadata": {},
   "outputs": [
    {
     "data": {
      "text/plain": [
       "21"
      ]
     },
     "execution_count": 17,
     "metadata": {},
     "output_type": "execute_result"
    }
   ],
   "source": [
    "a = range(101,201)\n",
    "prime_num = []\n",
    "\n",
    "h = 1\n",
    "for i in a:\n",
    "    for j in range(2,int(np.sqrt(i)+1)):\n",
    "        if i % j == 0:\n",
    "            h = 0\n",
    "            break\n",
    "    if h == 1:\n",
    "        prime_num.append(i)\n",
    "    h = 1\n",
    "        \n",
    "len(prime_num)    \n",
    "\n",
    "    \n",
    "    \n"
   ]
  },
  {
   "cell_type": "code",
   "execution_count": 18,
   "metadata": {},
   "outputs": [
    {
     "name": "stdout",
     "output_type": "stream",
     "text": [
      "[101, 103, 107, 109, 113, 127, 131, 137, 139, 149, 151, 157, 163, 167, 173, 179, 181, 191, 193, 197, 199]\n",
      "总数为：21\n"
     ]
    }
   ],
   "source": [
    "l = []\n",
    "for i in range(101,200):\n",
    "    for j in range(2,int(np.sqrt(i)+1)):\n",
    "        if i%j ==0:\n",
    "            break\n",
    "    else:\n",
    "        l.append(i)\n",
    "\n",
    "print(l)\n",
    "\n",
    "print(\"总数为：%d\" % len(l))"
   ]
  },
  {
   "cell_type": "markdown",
   "metadata": {},
   "source": [
    "### 打印出所有的\"水仙花数\"，所谓\"水仙花数\"是指一个三位数，其各位数字立方和等于该数本身。例如：153是一个\"水仙花数\"，因为153=1的三次方＋5的三次方＋3的三次方。"
   ]
  },
  {
   "cell_type": "code",
   "execution_count": 19,
   "metadata": {},
   "outputs": [
    {
     "name": "stdout",
     "output_type": "stream",
     "text": [
      "153\n",
      "370\n",
      "371\n",
      "407\n"
     ]
    }
   ],
   "source": [
    "number = []\n",
    "for i in range(1,10):\n",
    "    for j in range(0,10):\n",
    "        for k in range(0,10):\n",
    "            judge_num = 100*(i) + 10*(j) + (k)\n",
    "            judge_num2 = i**3 + j**3 + k**3\n",
    "            if judge_num < 999 and judge_num == judge_num2:\n",
    "                number.append(judge_num)\n",
    "        \n",
    "#// 取整           \n",
    "#参考解法\n",
    "for n in range(100,1000):\n",
    "    i = n // 100\n",
    "    j = n // 10 % 10\n",
    "    k = n % 10\n",
    "    if n == i*i*i + j*j*j + k*k*k: \n",
    "        print(n)\n",
    "          \n"
   ]
  },
  {
   "cell_type": "markdown",
   "metadata": {},
   "source": [
    "### 将一个正整数分解质因数。例如：输入90,打印出90=2* 3 * 3 * 5。"
   ]
  },
  {
   "cell_type": "code",
   "execution_count": 20,
   "metadata": {},
   "outputs": [
    {
     "name": "stdout",
     "output_type": "stream",
     "text": [
      "20\n",
      "2 * 2 * 5\n",
      "100\n",
      "2 * 2 * 5 * 5\n"
     ]
    }
   ],
   "source": [
    "def reduceNum(n):\n",
    "    print(\"{}\".format(n))\n",
    "\n",
    "    while n != 1 : # 循环保证递归\n",
    "        for index in range(2, n + 1) :\n",
    "            if n % index == 0:\n",
    "                n //= index # n 等于 n//index\n",
    "                if n == 1: \n",
    "                    print (index )\n",
    "                else : # index 一定是素数\n",
    "                    print ('{} *'.format(index), end=\" \")\n",
    "                break\n",
    "reduceNum(20)\n",
    "reduceNum(100)      \n",
    "        \n"
   ]
  },
  {
   "cell_type": "markdown",
   "metadata": {},
   "source": [
    "### 输出所有质数"
   ]
  },
  {
   "cell_type": "code",
   "execution_count": 21,
   "metadata": {},
   "outputs": [
    {
     "name": "stdout",
     "output_type": "stream",
     "text": [
      "input a number: 3\n"
     ]
    },
    {
     "data": {
      "text/plain": [
       "[2, 3]"
      ]
     },
     "execution_count": 21,
     "metadata": {},
     "output_type": "execute_result"
    }
   ],
   "source": [
    "a = int(input(\"input a number: \"))\n",
    "prim_num = []\n",
    "for i in range(1,a+1):\n",
    "    for j in range(2,int(np.sqrt(i)+1)):\n",
    "        if i % j  == 0:\n",
    "            break\n",
    "        \n",
    "\n",
    "    else:\n",
    "        prim_num.append(i)\n",
    "del prim_num[0]\n",
    "prim_num\n",
    "        "
   ]
  },
  {
   "cell_type": "markdown",
   "metadata": {},
   "source": [
    "### 学习成绩>=90分的同学用A表示，60-89分之间的用B表示，60分以下的用C表示"
   ]
  },
  {
   "cell_type": "code",
   "execution_count": 22,
   "metadata": {},
   "outputs": [
    {
     "name": "stdout",
     "output_type": "stream",
     "text": [
      "input a grade: 3\n",
      "3 属于 C\n"
     ]
    }
   ],
   "source": [
    "grade = float(input('input a grade: '))\n",
    "\n",
    "if grade >= 90 :\n",
    "    score = 'A'\n",
    "elif grade >= 60:\n",
    "    score = 'B'\n",
    "else:\n",
    "    score = 'C'\n",
    "\n",
    "print ('%d 属于 %s' % (grade,score))"
   ]
  },
  {
   "cell_type": "markdown",
   "metadata": {},
   "source": [
    "### 输入一行字符，分别统计出其中英文字母、空格、数字和其它字符的个数。"
   ]
  },
  {
   "cell_type": "code",
   "execution_count": 23,
   "metadata": {},
   "outputs": [],
   "source": [
    "import string"
   ]
  },
  {
   "cell_type": "code",
   "execution_count": 24,
   "metadata": {},
   "outputs": [
    {
     "name": "stdout",
     "output_type": "stream",
     "text": [
      "请输入一个字符串:\n",
      "3\n",
      "char = 0,space = 0,digit = 1,others = 0\n"
     ]
    }
   ],
   "source": [
    "s = input('请输入一个字符串:\\n')\n",
    "letters = 0\n",
    "number = 0\n",
    "space = 0\n",
    "others = 0\n",
    "for i in s:\n",
    "    if i.isalpha() == True:\n",
    "        letters +=1\n",
    "    elif i.isspace() == True:\n",
    "        space +=1\n",
    "    elif i.isdigit() == True:\n",
    "        number +=1\n",
    "    else:\n",
    "        others +=1\n",
    "print ('char = %d,space = %d,digit = %d,others = %d' % (letters,space,number,others))     \n",
    "        "
   ]
  },
  {
   "cell_type": "markdown",
   "metadata": {},
   "source": [
    "### 求s=a+aa+aaa+aaaa+aa...a的值，其中a是一个数字。例如2+22+222+2222+22222(此时共有5个数相加)，几个数相加由键盘控制。"
   ]
  },
  {
   "cell_type": "code",
   "execution_count": 25,
   "metadata": {},
   "outputs": [
    {
     "name": "stdout",
     "output_type": "stream",
     "text": [
      "input a number: 3\n",
      "The longest digit: 3\n"
     ]
    },
    {
     "data": {
      "text/plain": [
       "369"
      ]
     },
     "execution_count": 25,
     "metadata": {},
     "output_type": "execute_result"
    }
   ],
   "source": [
    "a = int(input('input a number: '))\n",
    "\n",
    "b = int(input('The longest digit: '))\n",
    "\n",
    "dic = []\n",
    "\n",
    "result = []\n",
    "\n",
    "\n",
    "\n",
    "    \n",
    "\n",
    "for i in range(b):\n",
    "    product = a*10**i\n",
    "    dic.append(product)\n",
    "  \n",
    "\n",
    "\n",
    "\n",
    "\n",
    "for j in range(1,len(dic)+1):\n",
    "    result1 = sum(dic[0:j])\n",
    "    result.append(result1)\n",
    "\n",
    "\n",
    "sum(result)\n"
   ]
  },
  {
   "cell_type": "code",
   "execution_count": 26,
   "metadata": {},
   "outputs": [
    {
     "name": "stdout",
     "output_type": "stream",
     "text": [
      "$48000 for 1 Bitcoin\n",
      "$2585 for 1 Ethereum\n",
      "$2 for 1 Cardano\n"
     ]
    }
   ],
   "source": [
    "coins = [\"Bitcoin\", \"Ethereum\", \"Cardano\"]\n",
    "prices = [48000,2585,2]\n",
    "for i, coin in enumerate(coins): ##遍历 0 1 2 3 4\n",
    "    price = prices[i]\n",
    "    print(f\"${price} for 1 {coin}\")"
   ]
  },
  {
   "cell_type": "code",
   "execution_count": 27,
   "metadata": {},
   "outputs": [
    {
     "name": "stdout",
     "output_type": "stream",
     "text": [
      "层数 3\n",
      "a = 3\n",
      "369\n"
     ]
    }
   ],
   "source": [
    "##另解\n",
    "\n",
    "\n",
    "n = int(input('层数 '))\n",
    "a = int(input('a = '))\n",
    "sum = 0\n",
    "total = 0\n",
    "for i in range(n):\n",
    "    sum += (10 ** i)\n",
    "    total += sum * a\n",
    "print(total)"
   ]
  },
  {
   "cell_type": "markdown",
   "metadata": {},
   "source": [
    "### 一个数如果恰好等于它的因子之和，这个数就称为\"完数\"。例如6=1＋2＋3.编程找出1000以内的所有完数。"
   ]
  },
  {
   "cell_type": "code",
   "execution_count": 5,
   "metadata": {
    "scrolled": true
   },
   "outputs": [],
   "source": [
    "def isPowerOfTwo(self, n: int) -> bool: "
   ]
  },
  {
   "cell_type": "code",
   "execution_count": null,
   "metadata": {},
   "outputs": [],
   "source": []
  }
 ],
 "metadata": {
  "kernelspec": {
   "display_name": "Python 3",
   "language": "python",
   "name": "python3"
  },
  "language_info": {
   "codemirror_mode": {
    "name": "ipython",
    "version": 3
   },
   "file_extension": ".py",
   "mimetype": "text/x-python",
   "name": "python",
   "nbconvert_exporter": "python",
   "pygments_lexer": "ipython3",
   "version": "3.8.5"
  }
 },
 "nbformat": 4,
 "nbformat_minor": 4
}
