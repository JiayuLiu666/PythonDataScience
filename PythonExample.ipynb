{
 "cells": [
  {
   "cell_type": "code",
   "execution_count": 13,
   "metadata": {},
   "outputs": [],
   "source": [
    "import numpy as np\n",
    "import random\n",
    "import time\n",
    "import matplotlib.pyplot as plt\n",
    "import seaborn as sns\n",
    "from matplotlib.pyplot import figure"
   ]
  },
  {
   "cell_type": "code",
   "execution_count": 15,
   "metadata": {},
   "outputs": [],
   "source": [
    "#有四个数字：1、2、3、4，能组成多少个互不相同且无重复数字的三位数？各是多少？\n",
    "integer = np.zeros(5,)\n",
    "a = np.array(range(1,5))\n",
    "b = np.array(range(1,4))\n",
    "c = np.array(range(1,3))"
   ]
  },
  {
   "cell_type": "code",
   "execution_count": 32,
   "metadata": {},
   "outputs": [
    {
     "name": "stdout",
     "output_type": "stream",
     "text": [
      "1 2 1\n",
      "1 3 1\n",
      "1 3 2\n",
      "2 1 2\n",
      "2 3 1\n",
      "2 3 2\n",
      "3 1 2\n",
      "3 2 1\n",
      "4 1 2\n",
      "4 2 1\n",
      "4 3 1\n",
      "4 3 2\n"
     ]
    }
   ],
   "source": [
    "for i in a:\n",
    "    for j in b:\n",
    "        for k in c:\n",
    "            if i != j != k:\n",
    "                print(i,j,k)"
   ]
  },
  {
   "cell_type": "markdown",
   "metadata": {},
   "source": [
    "## 第二题"
   ]
  },
  {
   "cell_type": "markdown",
   "metadata": {},
   "source": [
    "### 企业发放的奖金根据利润提成。利润(I)低于或等于10万元时，奖金可提10%；利润高于10万元，低于20万元时，低于10万元的部分按10%提成，高于10万元的部分，可提成7.5%；20万到40万之间时，高于20万元的部分，可提成5%；40万到60万之间时高于40万元的部分，可提成3%；60万到100万之间时，高于60万元的部分，可提成1.5%，高于100万元时，超过100万元的部分按1%提成，从键盘输入当月利润I，求应发放奖金总数？"
   ]
  },
  {
   "cell_type": "code",
   "execution_count": 50,
   "metadata": {},
   "outputs": [
    {
     "name": "stdout",
     "output_type": "stream",
     "text": [
      "Enter a number: 120000\n",
      "1500.0\n",
      "10000.0\n",
      "11500.0\n"
     ]
    }
   ],
   "source": [
    "num = int(input('Enter a number: '))\n",
    "\n",
    "\n",
    "\n",
    "arr = [1000000,600000,400000,200000,100000,0]\n",
    "rat = [0.01,0.015,0.03,0.05,0.075,0.1]\n",
    "r = 0\n",
    "\n",
    "for i in range(0,6):\n",
    "    if num>arr[i]:\n",
    "        r += (num - arr[i])*rat[i]\n",
    "        print ((num-arr[i])*rat[i])\n",
    "        num = arr[i]\n",
    "\n",
    "print(r)\n",
    "\n",
    "        \n",
    "        \n",
    "        \n",
    "\n",
    "\n",
    "        \n",
    "            \n",
    "            \n",
    "            \n",
    "    \n",
    "    \n",
    "    \n",
    "\n"
   ]
  },
  {
   "cell_type": "markdown",
   "metadata": {},
   "source": [
    "## 斐波那契数列"
   ]
  },
  {
   "cell_type": "code",
   "execution_count": 83,
   "metadata": {},
   "outputs": [],
   "source": [
    "number = {}\n",
    "def fibonacci(n):\n",
    "\n",
    "    if n <= 1:\n",
    "        return n\n",
    "    if n in number:\n",
    "        return number[n]\n",
    "        \n",
    "\n",
    "        \n",
    "        \n",
    "    \n",
    "    else:\n",
    "        result = fibonacci(n-1) + fibonacci(n-2)\n",
    "        number[n] = result\n",
    "        return result\n",
    "    \n",
    "\n"
   ]
  },
  {
   "cell_type": "code",
   "execution_count": 84,
   "metadata": {},
   "outputs": [
    {
     "name": "stdout",
     "output_type": "stream",
     "text": [
      "354224848179261915075\n",
      "0.00036406517028808594\n"
     ]
    }
   ],
   "source": [
    "start = time.time()\n",
    "print(fibonacci(100))\n",
    "\n",
    "end = time.time()\n",
    "print(end-start)"
   ]
  },
  {
   "cell_type": "markdown",
   "metadata": {},
   "source": [
    "## 一个整数，它加上100后是一个完全平方数，再加上168又是一个完全平方数，请问该数是多少？"
   ]
  },
  {
   "cell_type": "code",
   "execution_count": 103,
   "metadata": {},
   "outputs": [
    {
     "name": "stdout",
     "output_type": "stream",
     "text": [
      "-99.0\n",
      "21.0\n",
      "261.0\n",
      "1581.0\n",
      "符合条件的整数有： [-99, 21, 261, 1581]\n"
     ]
    }
   ],
   "source": [
    "for i in range(1,85):\n",
    "    if 168 % i == 0:\n",
    "        j = 168/i;\n",
    "        if i > j and (i + j) % 2 == 0 and (i - j) % 2 == 0:\n",
    "            m = (i + j) / 2\n",
    "            n = (i - j) / 2\n",
    "            x = n * n - 100\n",
    "            print(x)\n",
    "t = []\n",
    "for m in range(168):\n",
    "    for n in range(m):\n",
    "        if m**2 - n**2 == 168:\n",
    "            x = n**2 - 100\n",
    "            t.append(x)\n",
    "print('符合条件的整数有：',t )\n",
    "            \n",
    "\n",
    "    "
   ]
  },
  {
   "cell_type": "markdown",
   "metadata": {},
   "source": [
    "### 输入某年某月某日，判断这一天是这一年的第几天？"
   ]
  },
  {
   "cell_type": "code",
   "execution_count": 125,
   "metadata": {},
   "outputs": [
    {
     "name": "stdout",
     "output_type": "stream",
     "text": [
      "year :4\n",
      "month :3\n",
      "day :1\n",
      "61\n"
     ]
    }
   ],
   "source": [
    "year = int(input('year :'))\n",
    "month = int(input('month :'))\n",
    "day = int(input('day :'))\n",
    "\n",
    "mon = [1,2,3,4,5,6,7,8,9,10,11,12]\n",
    "\n",
    "days1 = [31,28,31,30,31,30,31,31,30,31,30,31]\n",
    "days2 = [31,29,31,30,31,30,31,31,30,31,30,31]\n",
    "new_list = []\n",
    "\n",
    "\n",
    "i = 0\n",
    "total_days = 0\n",
    "if year % 4 == 0:\n",
    "\n",
    "    while mon[i] < month:\n",
    "        new_list.append(days2[i])\n",
    "        total_days = sum(new_list) \n",
    "\n",
    "\n",
    "\n",
    "        \n",
    "        i +=1\n",
    "    \n",
    "            \n",
    "else:\n",
    "    while mon[i] < month:\n",
    "        new_list.append(days1[i])\n",
    "\n",
    "        total_days = sum(new_list) \n",
    "\n",
    "        \n",
    "        i +=1\n",
    "\n",
    "total_days += day\n",
    "print(total_days)\n",
    "\n",
    "\n",
    "\n"
   ]
  },
  {
   "cell_type": "markdown",
   "metadata": {},
   "source": [
    "###### Optimization\n",
    "\n",
    "### argmin(f(x) = $\\frac{-log(x)}{1+x}$)"
   ]
  },
  {
   "cell_type": "code",
   "execution_count": 11,
   "metadata": {},
   "outputs": [],
   "source": [
    "import math\n",
    "import matplotlib as plt"
   ]
  },
  {
   "cell_type": "code",
   "execution_count": 2,
   "metadata": {},
   "outputs": [],
   "source": [
    "def argmin(x):\n",
    "    r = -math.log(x)/(1+x)\n",
    "    return r\n",
    "\n",
    "def deriv_x(x):\n",
    "    r1 = (-x + x*math.log(x)-1)/(x*(1+x)**2)\n",
    "    return r1"
   ]
  },
  {
   "cell_type": "code",
   "execution_count": 3,
   "metadata": {},
   "outputs": [],
   "source": [
    "def gradient_decs(n):\n",
    "    alpha = 0.01\n",
    "    x1 = 0.001\n",
    "    y = argmin(x1)\n",
    "    for i in range(n):\n",
    "        deriv1 = deriv_x(x1)\n",
    "        x1 = x1 - alpha * deriv1\n",
    "        y2 = argmin(x1)\n",
    "        if y - y2 < 1e-6:\n",
    "            return x1, y2\n",
    "        if y2 < y:\n",
    "            y = y2\n",
    "    return x1, y2\n",
    "\n",
    "            \n",
    "    "
   ]
  },
  {
   "cell_type": "code",
   "execution_count": 4,
   "metadata": {},
   "outputs": [
    {
     "data": {
      "text/plain": [
       "(10.059850744625338, -0.2087326837719797)"
      ]
     },
     "execution_count": 4,
     "metadata": {},
     "output_type": "execute_result"
    }
   ],
   "source": [
    "gradient_decs(10000)"
   ]
  },
  {
   "cell_type": "code",
   "execution_count": 18,
   "metadata": {},
   "outputs": [
    {
     "data": {
      "text/plain": [
       "[<matplotlib.lines.Line2D at 0x7f839d892460>]"
      ]
     },
     "execution_count": 18,
     "metadata": {},
     "output_type": "execute_result"
    },
    {
     "data": {
      "image/png": "[encoded data removed]",
      "text/plain": [
       "<Figure size 432x288 with 1 Axes>"
      ]
     },
     "metadata": {
      "needs_background": "light"
     },
     "output_type": "display_data"
    }
   ],
   "source": [
    "x = np.linspace(0.1,6,num=10000)\n",
    "y = []\n",
    "for i in x:\n",
    "    y1 = deriv_x(i)\n",
    "    y.append(y1)\n",
    "plt.plot(x,y)"
   ]
  },
  {
   "cell_type": "code",
   "execution_count": 16,
   "metadata": {},
   "outputs": [
    {
     "data": {
      "text/plain": [
       "10000"
      ]
     },
     "execution_count": 16,
     "metadata": {},
     "output_type": "execute_result"
    }
   ],
   "source": [
    "len(x)"
   ]
  },
  {
   "cell_type": "code",
   "execution_count": null,
   "metadata": {},
   "outputs": [],
   "source": []
  }
 ],
 "metadata": {
  "kernelspec": {
   "display_name": "Python 3",
   "language": "python",
   "name": "python3"
  },
  "language_info": {
   "codemirror_mode": {
    "name": "ipython",
    "version": 3
   },
   "file_extension": ".py",
   "mimetype": "text/x-python",
   "name": "python",
   "nbconvert_exporter": "python",
   "pygments_lexer": "ipython3",
   "version": "3.8.5"
  }
 },
 "nbformat": 4,
 "nbformat_minor": 4
}
