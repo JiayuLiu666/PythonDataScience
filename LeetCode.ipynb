{
 "cells": [
  {
   "cell_type": "code",
   "execution_count": 290,
   "metadata": {},
   "outputs": [],
   "source": [
    "import numpy as np\n",
    "import string\n",
    "import collections"
   ]
  },
  {
   "cell_type": "code",
   "execution_count": 93,
   "metadata": {},
   "outputs": [],
   "source": [
    "### 给你一个整数 n，请你判断该整数是否是 2 的幂次方。如果是，返回 true ；否则，返回 false 。\n",
    "\n",
    "### 如果存在一个整数 x 使得 n == 2x ，则认为 n 是 2 的幂次方。\n",
    "\n",
    "\n"
   ]
  },
  {
   "cell_type": "code",
   "execution_count": 94,
   "metadata": {},
   "outputs": [
    {
     "name": "stdout",
     "output_type": "stream",
     "text": [
      "input a number: 1\n",
      "True\n"
     ]
    }
   ],
   "source": [
    "def isPoweroftwo(a):\n",
    "    if a == 0:\n",
    "        return 1\n",
    "    if a == 1:\n",
    "        return 2\n",
    "    else:\n",
    "        return 2*(isPoweroftwo(a-1))\n",
    "\n",
    "n = int(input('input a number: '))\n",
    "\n",
    "i = 0\n",
    "\n",
    "for i in range(n):\n",
    "    if n == isPoweroftwo(i):\n",
    "        print('True')\n",
    "        break\n",
    "    if isPoweroftwo(i) > n:\n",
    "        print('False')\n",
    "        break\n",
    "\n",
    "\n",
    "    \n",
    "\n",
    "\n"
   ]
  },
  {
   "cell_type": "markdown",
   "metadata": {},
   "source": [
    "### 二分查找"
   ]
  },
  {
   "cell_type": "code",
   "execution_count": 42,
   "metadata": {},
   "outputs": [
    {
     "name": "stdout",
     "output_type": "stream",
     "text": [
      "元素在数组中的索引为 4\n"
     ]
    }
   ],
   "source": [
    "# 返回 x 在 arr 中的索引，如果不存在返回 -1 r l为索引\n",
    "nums = [-1,0,3,5,9,12]\n",
    "\n",
    "\n",
    "def binarySearch(arr,l,r,x):\n",
    "    if r >= l:\n",
    "        mid = int(l + (r-l)/2)\n",
    "        if arr[mid] == x:\n",
    "            return mid\n",
    "        elif arr[mid] < x:\n",
    "            return binarySearch(arr,mid+1,r,x)\n",
    "        else:\n",
    "            return binarySearch(arr,l,mid-1,x)\n",
    "    else:\n",
    "        return -1\n",
    "            \n",
    "x = 9\n",
    "        \n",
    "\n",
    "\n",
    "result = binarySearch(nums, 0, len(nums)-1, x) \n",
    "  \n",
    "if nums != -1: \n",
    "    print (\"元素在数组中的索引为 %d\" % result )\n",
    "else: \n",
    "    print (\"元素不在数组中\")\n",
    "     "
   ]
  },
  {
   "cell_type": "markdown",
   "metadata": {},
   "source": [
    "###  一球从100米高度自由落下，每次落地后反跳回原高度的一半；再落下，求它在第10次落地时，共经过多少米？第10次反弹多高？\n",
    "\n",
    "            "
   ]
  },
  {
   "cell_type": "code",
   "execution_count": 32,
   "metadata": {},
   "outputs": [
    {
     "data": {
      "text/plain": [
       "{1: 50.0,\n",
       " 2: 25.0,\n",
       " 3: 12.5,\n",
       " 4: 6.25,\n",
       " 5: 3.125,\n",
       " 6: 1.5625,\n",
       " 7: 0.78125,\n",
       " 8: 0.390625,\n",
       " 9: 0.1953125,\n",
       " 10: 0.09765625}"
      ]
     },
     "execution_count": 32,
     "metadata": {},
     "output_type": "execute_result"
    }
   ],
   "source": [
    "height = 100\n",
    "dic = {}\n",
    "for i in range(1,11):\n",
    "    height = height/2\n",
    "    dic[i] = height\n",
    "    \n",
    "dic \n"
   ]
  },
  {
   "cell_type": "markdown",
   "metadata": {},
   "source": [
    "### 猴子吃桃问题：猴子第一天摘下若干个桃子，当即吃了一半，还不瘾，又多吃了一个第二天早上又将剩下的桃子吃掉一半，又多吃了一个。以后每天早上都吃了前一天剩下的一半零一个。到第10天早上想再吃时，见只剩下一个桃子了。求第一天共摘了多少。\n"
   ]
  },
  {
   "cell_type": "code",
   "execution_count": 84,
   "metadata": {},
   "outputs": [],
   "source": [
    "def eatpeach(n):\n",
    "    first = [1] *(n+1)\n",
    "    first[1] = 4\n",
    "    for i in range(2,n):\n",
    "\n",
    "        first[i] = 2*(1+first[i-1])\n",
    "\n",
    "    return first[n-1]\n",
    "    \n",
    "    "
   ]
  },
  {
   "cell_type": "code",
   "execution_count": 85,
   "metadata": {},
   "outputs": [],
   "source": [
    "def fib_loop(n):\n",
    "    if n <= 1: # 0,1 直接返回\n",
    "        return n\n",
    "    fibs = [0] * (n+1) # 初始化一个数组\n",
    "    fibs[1] = 1\n",
    "    for i in range(2, n+1): # 从下标为2的数字开始\n",
    "        fibs[i] = fibs[i-1] + fibs[i-2]\n",
    "    return fibs[n] #返回第n个数字"
   ]
  },
  {
   "cell_type": "markdown",
   "metadata": {},
   "source": [
    "### 两个乒乓球队进行比赛，各出三人。甲队为a,b,c三人，乙队为x,y,z三人。已抽签决定比赛名单。有人向队员打听比赛的名单。a说他不和x比，c说他不和x,z比，请编程序找出三队赛手的名单。"
   ]
  },
  {
   "cell_type": "code",
   "execution_count": 210,
   "metadata": {},
   "outputs": [
    {
     "name": "stdout",
     "output_type": "stream",
     "text": [
      "a---- z\n",
      "b---- x\n",
      "c---- y\n"
     ]
    }
   ],
   "source": [
    "\n",
    "    for a in ['x','y','z']:\n",
    "        for b in ['x','y','z']:\n",
    "            for c in ['x','y','z']:\n",
    "                if (a != b) and (a!=c) and (b!=c) and (a !='x') and (c!='x') and (c!='z'):\n",
    "                    print(\"a----\",a)\n",
    "                    print('b----',b)\n",
    "                    print('c----',c)\n",
    "                \n",
    "\n",
    "    "
   ]
  },
  {
   "cell_type": "code",
   "execution_count": 208,
   "metadata": {},
   "outputs": [
    {
     "name": "stdout",
     "output_type": "stream",
     "text": [
      "William is now sitting\n"
     ]
    }
   ],
   "source": [
    "class Dog():\n",
    "    def __init__(self,name,age):\n",
    "        self.name = name\n",
    "        self.age = age\n",
    "        \n",
    "    def sit(self):\n",
    "        print(f'{self.name} is now sitting')\n",
    "        \n",
    "    def roll_over(self):\n",
    "        print(f'{self.name} rolled over!')\n",
    "\n",
    "        \n",
    "\n",
    "\n",
    "        \n",
    "my_dog = Dog('William',2)\n",
    "my_dog.sit()\n"
   ]
  },
  {
   "cell_type": "markdown",
   "metadata": {},
   "source": [
    "### 编写一个Car类和一个electric 子类"
   ]
  },
  {
   "cell_type": "code",
   "execution_count": 164,
   "metadata": {},
   "outputs": [],
   "source": [
    "class Car():\n",
    "    def __init__(self,make,model,year):\n",
    "        self.make = make\n",
    "        self.model = model\n",
    "        self.year = year\n",
    "        self.odometer_reading = 0\n",
    "        \n",
    "    def get_description(self):\n",
    "        long_name = f\"{self.year} {self.make} {self.model}\"\n",
    "        return long_name.title()\n",
    "    \n",
    "    def read_odometer(self):\n",
    "        print(f\"this car has {self.odometer_reading} miles on it\")\n",
    "        \n",
    "        \n",
    "        \n",
    "        \n",
    "    def update_odometer(self,mileage):\n",
    "        if mileage > self.odometer_reading:\n",
    "            self.odometer_reading = mileage\n",
    "        else:\n",
    "            print('wrong')\n",
    "    def increase_odometer(self,miles):\n",
    "        if miles > 0:\n",
    "            self.odometer_reading += miles\n",
    "        else:\n",
    "            print('wrong')\n",
    "    \n",
    "    \n",
    "        \n",
    "\n",
    "my_car = Car('bmw','m2',2018)\n",
    "\n",
    "my_car.update_odometer(1)\n",
    "\n",
    "my_car.increase_odometer(20)\n",
    "\n",
    "my_car.odometer_reading\n",
    "\n",
    "## 实例作为属性\n",
    "class battery():\n",
    "    def __init__(self,battery_size=75):\n",
    "        self.battery_size = battery_size\n",
    "        \n",
    "    def describe_battery(self):\n",
    "        print(f\"This car has a {self.battery_size} - Kwh battery\")\n",
    "        \n",
    "    def get_range(self):\n",
    "        if self.battery_size == 75:\n",
    "            range = 260\n",
    "        elif self.battery_size == 100:\n",
    "            range = 315\n",
    "        print(f\"This car can go about {range} miles on a full charge.\")"
   ]
  },
  {
   "cell_type": "code",
   "execution_count": 165,
   "metadata": {},
   "outputs": [
    {
     "name": "stdout",
     "output_type": "stream",
     "text": [
      "2019 Tesla Model S\n",
      "This car has a 75 - Kwh battery\n",
      "This car can go about 260 miles on a full charge.\n"
     ]
    }
   ],
   "source": [
    "class ElectricCar(Car):\n",
    "    def __init__(self,make,model,year):\n",
    "        super().__init__(make,model,year)\n",
    "        self.battery = battery()\n",
    "\n",
    "    \n",
    "\n",
    "\n",
    "my_tesla = ElectricCar('tesla','model s','2019')\n",
    "print(my_tesla.get_description())\n",
    "my_tesla.battery.describe_battery()\n",
    "my_tesla.battery.get_range()"
   ]
  },
  {
   "cell_type": "markdown",
   "metadata": {},
   "source": [
    "### 定义一个学生Student类。有下面的类属性："
   ]
  },
  {
   "cell_type": "code",
   "execution_count": 178,
   "metadata": {},
   "outputs": [],
   "source": [
    "class Student():\n",
    "    def __init__(self,name,age,score):\n",
    "        self.name = name\n",
    "        self.age = age\n",
    "        self.score = score\n",
    "        \n",
    "    def get_name(self):\n",
    "        if isinstance(self.name, str):\n",
    "            print(f\"Name is {self.name}\")\n",
    "    \n",
    "    def get_age(self):\n",
    "        print(f\"Age is {self.age}\")\n",
    "        \n",
    "    def get_course(self):\n",
    "        return max(self.score)\n",
    "    "
   ]
  },
  {
   "cell_type": "code",
   "execution_count": 179,
   "metadata": {},
   "outputs": [],
   "source": [
    "zm = Student('zhangming',20,[69,88,100])"
   ]
  },
  {
   "cell_type": "code",
   "execution_count": 180,
   "metadata": {},
   "outputs": [
    {
     "name": "stdout",
     "output_type": "stream",
     "text": [
      "Name is zhangming\n",
      "Age is 20\n"
     ]
    },
    {
     "data": {
      "text/plain": [
       "100"
      ]
     },
     "execution_count": 180,
     "metadata": {},
     "output_type": "execute_result"
    }
   ],
   "source": [
    "zm.get_name()\n",
    "zm.get_age()\n",
    "zm.get_course()"
   ]
  },
  {
   "cell_type": "markdown",
   "metadata": {},
   "source": [
    "### 二、定义一个字典类：dictclass。完成下面的功能："
   ]
  },
  {
   "cell_type": "code",
   "execution_count": 270,
   "metadata": {},
   "outputs": [],
   "source": [
    "class Dictclass():\n",
    "    def __init__(self,class1):\n",
    "        self.classs = class1\n",
    "        \n",
    "    def del_dict(self,key):\n",
    "        if key in self.classs:\n",
    "            del self.classs[key]\n",
    "            return self.classs\n",
    "        return ('不存在')\n",
    "    \n",
    "    def get_dict(self,key1):\n",
    "        return self.classs.get(key1,'not found')\n",
    "    \n",
    "    def get_key(self):\n",
    "        return list(self.classs.keys())     "
   ]
  },
  {
   "cell_type": "code",
   "execution_count": 273,
   "metadata": {},
   "outputs": [
    {
     "data": {
      "text/plain": [
       "{'姓名': '张三', '年龄': '18', '性别': '男'}"
      ]
     },
     "execution_count": 273,
     "metadata": {},
     "output_type": "execute_result"
    }
   ],
   "source": [
    "a = Dictclass({\"姓名\": \"张三\", \"年龄\": \"18\", \"性别\": \"男\"})\n",
    "a.classs\n"
   ]
  },
  {
   "cell_type": "code",
   "execution_count": 259,
   "metadata": {},
   "outputs": [],
   "source": [
    "class Listinfo():\n",
    "    def __init__(self,my_list):\n",
    "        self.listt = my_list\n",
    "        \n",
    "    def add_key(self,keyname):\n",
    "        if isinstance(keyname,(str,int)):\n",
    "            return self.listt.append(keyname)\n",
    "        else:\n",
    "            return('error')"
   ]
  },
  {
   "cell_type": "code",
   "execution_count": 246,
   "metadata": {},
   "outputs": [],
   "source": [
    "def twosum(nums,target):\n",
    "    for i in range(len(nums)-1):\n",
    "        j = nums[i] + nums[i+1]\n",
    "    if j == target:\n",
    "        return i,i+1\n",
    "    else:\n",
    "        print('non exist')\n",
    "    \n",
    "\n",
    "        \n",
    "\n",
    "        \n",
    "\n",
    "\n",
    "        \n",
    "        \n",
    "    \n",
    "    "
   ]
  },
  {
   "cell_type": "code",
   "execution_count": 370,
   "metadata": {
    "scrolled": true
   },
   "outputs": [],
   "source": [
    "    def groupAnagrams(strs):\n",
    "        ans = {}\n",
    "        count1 = 0\n",
    "        for s in strs:\n",
    "            count1 +=1\n",
    "            count = [0] * 26\n",
    "            for c in s:\n",
    "                count[ord(c) - ord('a')] += 1\n",
    "            ans[count1] = count\n",
    "        \n",
    "        print(ans[1])\n",
    "        print(ans[2])\n",
    "        print(ans[1] == ans[2])\n",
    "\n",
    "               \n",
    "            \n",
    "        \n",
    "\n",
    "            \n",
    "            \n",
    "\n",
    "\n",
    "            \n",
    "\n",
    "            \n",
    "\n",
    "        \n",
    "\n",
    "\n",
    "                \n"
   ]
  },
  {
   "cell_type": "code",
   "execution_count": 371,
   "metadata": {},
   "outputs": [
    {
     "name": "stdout",
     "output_type": "stream",
     "text": [
      "[1, 1, 1, 0, 0, 0, 0, 0, 0, 0, 0, 0, 0, 0, 0, 0, 0, 0, 0, 0, 0, 0, 0, 0, 0, 0]\n",
      "[1, 0, 1, 1, 0, 0, 0, 0, 0, 0, 0, 0, 0, 0, 0, 0, 0, 0, 0, 0, 0, 0, 0, 0, 0, 0]\n",
      "False\n"
     ]
    }
   ],
   "source": [
    "groupAnagrams(['abc','cad'])"
   ]
  },
  {
   "cell_type": "code",
   "execution_count": null,
   "metadata": {},
   "outputs": [],
   "source": []
  },
  {
   "cell_type": "code",
   "execution_count": null,
   "metadata": {},
   "outputs": [],
   "source": []
  },
  {
   "cell_type": "code",
   "execution_count": null,
   "metadata": {},
   "outputs": [],
   "source": []
  },
  {
   "cell_type": "code",
   "execution_count": null,
   "metadata": {},
   "outputs": [],
   "source": []
  },
  {
   "cell_type": "code",
   "execution_count": null,
   "metadata": {},
   "outputs": [],
   "source": []
  }
 ],
 "metadata": {
  "kernelspec": {
   "display_name": "Python 3",
   "language": "python",
   "name": "python3"
  },
  "language_info": {
   "codemirror_mode": {
    "name": "ipython",
    "version": 3
   },
   "file_extension": ".py",
   "mimetype": "text/x-python",
   "name": "python",
   "nbconvert_exporter": "python",
   "pygments_lexer": "ipython3",
   "version": "3.8.5"
  }
 },
 "nbformat": 4,
 "nbformat_minor": 4
}
